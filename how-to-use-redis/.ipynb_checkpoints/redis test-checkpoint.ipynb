{
 "cells": [
  {
   "cell_type": "code",
   "execution_count": 1,
   "id": "d1f682f2",
   "metadata": {},
   "outputs": [],
   "source": [
    "# https://realpython.com/python-redis/"
   ]
  },
  {
   "cell_type": "code",
   "execution_count": 2,
   "id": "1eb72ab0",
   "metadata": {},
   "outputs": [],
   "source": [
    "import os"
   ]
  },
  {
   "cell_type": "code",
   "execution_count": 3,
   "id": "812f1454",
   "metadata": {},
   "outputs": [],
   "source": [
    "os.environ[\"DJANGO_ALLOW_ASYNC_UNSAFE\"] = \"true\""
   ]
  },
  {
   "cell_type": "code",
   "execution_count": 4,
   "id": "92415fc5",
   "metadata": {},
   "outputs": [],
   "source": [
    "import redis"
   ]
  },
  {
   "cell_type": "code",
   "execution_count": 5,
   "id": "9fc57637",
   "metadata": {},
   "outputs": [],
   "source": [
    "r = redis.Redis(host='127.0.0.1',port=6379,db=0, password=None, socket_timeout=None) #__init__"
   ]
  },
  {
   "cell_type": "code",
   "execution_count": 6,
   "id": "6ab3cd1e",
   "metadata": {},
   "outputs": [
    {
     "data": {
      "text/plain": [
       "True"
      ]
     },
     "execution_count": 6,
     "metadata": {},
     "output_type": "execute_result"
    }
   ],
   "source": [
    "r.mset({\"Croatia\": \"Zagreb\", \"Bahamas\": \"Nassau\"})"
   ]
  },
  {
   "cell_type": "code",
   "execution_count": 7,
   "id": "96673aff",
   "metadata": {},
   "outputs": [
    {
     "data": {
      "text/plain": [
       "b'Nassau'"
      ]
     },
     "execution_count": 7,
     "metadata": {},
     "output_type": "execute_result"
    }
   ],
   "source": [
    "r.get(\"Bahamas\")"
   ]
  },
  {
   "cell_type": "code",
   "execution_count": 8,
   "id": "a4bae3ca",
   "metadata": {},
   "outputs": [],
   "source": [
    "### datetime"
   ]
  },
  {
   "cell_type": "code",
   "execution_count": 9,
   "id": "634fd490",
   "metadata": {},
   "outputs": [],
   "source": [
    "import datetime"
   ]
  },
  {
   "cell_type": "code",
   "execution_count": 10,
   "id": "db2cd12b",
   "metadata": {},
   "outputs": [],
   "source": [
    "today = datetime.date.today()"
   ]
  },
  {
   "cell_type": "code",
   "execution_count": 11,
   "id": "ba7c84a7",
   "metadata": {},
   "outputs": [],
   "source": [
    "visitors = {\"dan\", \"jon\", \"alex\"}"
   ]
  },
  {
   "cell_type": "code",
   "execution_count": 12,
   "id": "6c76eaba",
   "metadata": {},
   "outputs": [],
   "source": [
    "# r.sadd(today, *visitors) ## redis.exceptions.DataError: Invalid input of type: 'date'. Convert to a byte, string or number first."
   ]
  },
  {
   "cell_type": "code",
   "execution_count": 13,
   "id": "ae33834d",
   "metadata": {},
   "outputs": [],
   "source": [
    "stoday = today.isoformat() "
   ]
  },
  {
   "cell_type": "code",
   "execution_count": 14,
   "id": "a815c250",
   "metadata": {},
   "outputs": [
    {
     "data": {
      "text/plain": [
       "'2023-02-04'"
      ]
     },
     "execution_count": 14,
     "metadata": {},
     "output_type": "execute_result"
    }
   ],
   "source": [
    "stoday"
   ]
  },
  {
   "cell_type": "code",
   "execution_count": 15,
   "id": "bf9b74f5",
   "metadata": {},
   "outputs": [
    {
     "data": {
      "text/plain": [
       "3"
      ]
     },
     "execution_count": 15,
     "metadata": {},
     "output_type": "execute_result"
    }
   ],
   "source": [
    "r.sadd(stoday, *visitors)  # sadd: set-add"
   ]
  },
  {
   "cell_type": "code",
   "execution_count": 16,
   "id": "92c46712",
   "metadata": {},
   "outputs": [
    {
     "data": {
      "text/plain": [
       "{b'alex', b'dan', b'jon'}"
      ]
     },
     "execution_count": 16,
     "metadata": {},
     "output_type": "execute_result"
    }
   ],
   "source": [
    " r.smembers(stoday)"
   ]
  },
  {
   "cell_type": "code",
   "execution_count": 17,
   "id": "4936e518",
   "metadata": {},
   "outputs": [
    {
     "data": {
      "text/plain": [
       "3"
      ]
     },
     "execution_count": 17,
     "metadata": {},
     "output_type": "execute_result"
    }
   ],
   "source": [
    "r.scard(today.isoformat())"
   ]
  },
  {
   "cell_type": "code",
   "execution_count": 18,
   "id": "0f9ee186",
   "metadata": {},
   "outputs": [],
   "source": [
    "### Example: PyHats.com"
   ]
  },
  {
   "cell_type": "code",
   "execution_count": 19,
   "id": "ace5d236",
   "metadata": {},
   "outputs": [],
   "source": [
    "import random"
   ]
  },
  {
   "cell_type": "code",
   "execution_count": 20,
   "id": "230a6d12",
   "metadata": {},
   "outputs": [],
   "source": [
    "random.seed(444)"
   ]
  },
  {
   "cell_type": "code",
   "execution_count": 21,
   "id": "8140c45a",
   "metadata": {},
   "outputs": [],
   "source": [
    "hats = {f\"hat:{random.getrandbits(32)}\": i for i in (\n",
    "    {\n",
    "        \"color\": \"black\",\n",
    "        \"price\": 49.99,\n",
    "        \"style\": \"fitted\",\n",
    "        \"quantity\": 1000,\n",
    "        \"npurchased\": 0,\n",
    "    },\n",
    "    {\n",
    "        \"color\": \"maroon\",\n",
    "        \"price\": 59.99,\n",
    "        \"style\": \"hipster\",\n",
    "        \"quantity\": 500,\n",
    "        \"npurchased\": 0,\n",
    "    },\n",
    "    {\n",
    "        \"color\": \"green\",\n",
    "        \"price\": 99.99,\n",
    "        \"style\": \"baseball\",\n",
    "        \"quantity\": 200,\n",
    "        \"npurchased\": 0,\n",
    "    })\n",
    "}"
   ]
  },
  {
   "cell_type": "code",
   "execution_count": 22,
   "id": "7ed9fe83",
   "metadata": {},
   "outputs": [
    {
     "data": {
      "text/plain": [
       "{'hat:1326692461': {'color': 'black',\n",
       "  'price': 49.99,\n",
       "  'style': 'fitted',\n",
       "  'quantity': 1000,\n",
       "  'npurchased': 0},\n",
       " 'hat:1236154736': {'color': 'maroon',\n",
       "  'price': 59.99,\n",
       "  'style': 'hipster',\n",
       "  'quantity': 500,\n",
       "  'npurchased': 0},\n",
       " 'hat:56854717': {'color': 'green',\n",
       "  'price': 99.99,\n",
       "  'style': 'baseball',\n",
       "  'quantity': 200,\n",
       "  'npurchased': 0}}"
      ]
     },
     "execution_count": 22,
     "metadata": {},
     "output_type": "execute_result"
    }
   ],
   "source": [
    "hats"
   ]
  },
  {
   "cell_type": "code",
   "execution_count": 23,
   "id": "1bbfcbac",
   "metadata": {},
   "outputs": [],
   "source": [
    "import json"
   ]
  },
  {
   "cell_type": "code",
   "execution_count": 24,
   "id": "8e2fdb61",
   "metadata": {},
   "outputs": [],
   "source": [
    "r1 = redis.Redis(db=1)"
   ]
  },
  {
   "cell_type": "code",
   "execution_count": 25,
   "id": "e01f49e8",
   "metadata": {},
   "outputs": [
    {
     "name": "stdout",
     "output_type": "stream",
     "text": [
      "h_id :  hat:1326692461\n",
      "hat :  {'color': 'black', 'price': 49.99, 'style': 'fitted', 'quantity': 1000, 'npurchased': 0}\n",
      "h_id :  hat:1236154736\n",
      "hat :  {'color': 'maroon', 'price': 59.99, 'style': 'hipster', 'quantity': 500, 'npurchased': 0}\n",
      "h_id :  hat:56854717\n",
      "hat :  {'color': 'green', 'price': 99.99, 'style': 'baseball', 'quantity': 200, 'npurchased': 0}\n"
     ]
    }
   ],
   "source": [
    "with r1.pipeline() as pipe:\n",
    "    for h_id, hat in hats.items():\n",
    "        print('h_id : ',h_id)\n",
    "        print('hat : ',hat)\n",
    "        json_test_dict = json.dumps(hat, ensure_ascii=False).encode('utf-8')\n",
    "        r1.set(h_id, json_test_dict)\n",
    "    pipe.execute()"
   ]
  },
  {
   "cell_type": "code",
   "execution_count": 26,
   "id": "815d07bc",
   "metadata": {
    "scrolled": true
   },
   "outputs": [],
   "source": [
    "json_test_dict = r1.get('hat:1326692461').decode('utf-8')\n",
    "test_dict2 = dict(json.loads(json_test_dict))"
   ]
  },
  {
   "cell_type": "code",
   "execution_count": 27,
   "id": "c5501cf3",
   "metadata": {},
   "outputs": [
    {
     "data": {
      "text/plain": [
       "{'color': 'black',\n",
       " 'price': 49.99,\n",
       " 'style': 'fitted',\n",
       " 'quantity': 1000,\n",
       " 'npurchased': 0}"
      ]
     },
     "execution_count": 27,
     "metadata": {},
     "output_type": "execute_result"
    }
   ],
   "source": [
    "test_dict2"
   ]
  },
  {
   "cell_type": "code",
   "execution_count": 28,
   "id": "f308d688",
   "metadata": {},
   "outputs": [
    {
     "data": {
      "text/plain": [
       "[b'hat:1326692461', b'hat:56854717', b'hat:1236154736']"
      ]
     },
     "execution_count": 28,
     "metadata": {},
     "output_type": "execute_result"
    }
   ],
   "source": [
    "r1.keys()"
   ]
  },
  {
   "cell_type": "code",
   "execution_count": 29,
   "id": "a7fb204e",
   "metadata": {},
   "outputs": [
    {
     "name": "stdout",
     "output_type": "stream",
     "text": [
      "h_id :  hat:1326692461\n",
      "hat :  {'color': 'black', 'price': 49.99, 'style': 'fitted', 'quantity': 1000, 'npurchased': 0}\n",
      "h_id :  hat:1236154736\n",
      "hat :  {'color': 'maroon', 'price': 59.99, 'style': 'hipster', 'quantity': 500, 'npurchased': 0}\n",
      "h_id :  hat:56854717\n",
      "hat :  {'color': 'green', 'price': 99.99, 'style': 'baseball', 'quantity': 200, 'npurchased': 0}\n"
     ]
    }
   ],
   "source": [
    "from redis import StrictRedis\n",
    "r2 = StrictRedis(db=2)\n",
    "with r2.pipeline() as pipe:\n",
    "    for h_id, hat in hats.items():\n",
    "        print('h_id : ',h_id)\n",
    "        print('hat : ',hat)\n",
    "        r2.hset(h_id, mapping=hat)\n",
    "    pipe.execute()"
   ]
  },
  {
   "cell_type": "code",
   "execution_count": 30,
   "id": "6710c8be",
   "metadata": {},
   "outputs": [
    {
     "data": {
      "text/plain": [
       "True"
      ]
     },
     "execution_count": 30,
     "metadata": {},
     "output_type": "execute_result"
    }
   ],
   "source": [
    "r2.bgsave()"
   ]
  },
  {
   "cell_type": "code",
   "execution_count": 31,
   "id": "ea8b7d86",
   "metadata": {},
   "outputs": [
    {
     "data": {
      "text/plain": [
       "[b'hat:1326692461', b'hat:56854717', b'hat:1236154736']"
      ]
     },
     "execution_count": 31,
     "metadata": {},
     "output_type": "execute_result"
    }
   ],
   "source": [
    "r2.keys()"
   ]
  },
  {
   "cell_type": "code",
   "execution_count": 32,
   "id": "94681a8a",
   "metadata": {},
   "outputs": [
    {
     "data": {
      "text/plain": [
       "199"
      ]
     },
     "execution_count": 32,
     "metadata": {},
     "output_type": "execute_result"
    }
   ],
   "source": [
    "r2.hincrby(\"hat:56854717\", \"quantity\", -1)"
   ]
  },
  {
   "cell_type": "code",
   "execution_count": 33,
   "id": "92e43fc3",
   "metadata": {},
   "outputs": [
    {
     "data": {
      "text/plain": [
       "b'199'"
      ]
     },
     "execution_count": 33,
     "metadata": {},
     "output_type": "execute_result"
    }
   ],
   "source": [
    "r2.hget(\"hat:56854717\", \"quantity\")"
   ]
  },
  {
   "cell_type": "code",
   "execution_count": 34,
   "id": "75925080",
   "metadata": {},
   "outputs": [
    {
     "data": {
      "text/plain": [
       "1"
      ]
     },
     "execution_count": 34,
     "metadata": {},
     "output_type": "execute_result"
    }
   ],
   "source": [
    "r2.hincrby(\"hat:56854717\", \"npurchased\", 1)"
   ]
  },
  {
   "cell_type": "code",
   "execution_count": 35,
   "id": "9558821e",
   "metadata": {},
   "outputs": [],
   "source": [
    "# Step 1: Check if the item is in stock, or otherwise raise an exception on the backend.\n",
    "# Step 1 is relatively straightforward: it consists of an .hget() to check the available quantity."
   ]
  },
  {
   "cell_type": "code",
   "execution_count": 36,
   "id": "17a92ea6",
   "metadata": {},
   "outputs": [],
   "source": [
    "# Step 2: If it is in stock, then execute the transaction, decrease the quantity field, and increase the npurchased field.\n",
    "# Step 2 is a little bit more involved. The pair of increase and decrease operations need to be executed atomically: e\n",
    "#         ither both should be completed successfully, or neither should be (in the case that at least one fails)."
   ]
  },
  {
   "cell_type": "code",
   "execution_count": 37,
   "id": "bfa4b2e9",
   "metadata": {},
   "outputs": [
    {
     "data": {
      "text/plain": [
       "'\\n127.0.0.1:6379> MULTI\\n127.0.0.1:6379> HINCRBY 56854717 quantity -1\\n127.0.0.1:6379> HINCRBY 56854717 npurchased 1\\n127.0.0.1:6379> EXEC\\n'"
      ]
     },
     "execution_count": 37,
     "metadata": {},
     "output_type": "execute_result"
    }
   ],
   "source": [
    "'''\n",
    "127.0.0.1:6379> MULTI\n",
    "127.0.0.1:6379> HINCRBY 56854717 quantity -1\n",
    "127.0.0.1:6379> HINCRBY 56854717 npurchased 1\n",
    "127.0.0.1:6379> EXEC\n",
    "'''"
   ]
  },
  {
   "cell_type": "code",
   "execution_count": 38,
   "id": "c67f5e98",
   "metadata": {},
   "outputs": [],
   "source": [
    "# Step 3: Be alert for any changes that alter the inventory in between the first two steps (a race condition)."
   ]
  },
  {
   "cell_type": "code",
   "execution_count": 39,
   "id": "4226bab4",
   "metadata": {},
   "outputs": [
    {
     "data": {
      "text/plain": [
       "'\\nStep 3 is the trickiest. Let’s say that there is one lone hat remaining in our inventory. \\nIn between the time that User A checks the quantity of hats remaining and actually processes their transaction, \\nUser B also checks the inventory and finds likewise that there is one hat listed in stock. \\nBoth users will be allowed to purchase the hat, but we have 1 hat to sell, not 2, \\nso we’re on the hook and one user is out of their money. Not good.\\n\\nRedis has a clever answer for the dilemma in Step 3: \\nit’s called optimistic locking, and is different than how typical locking works in an RDBMS such as PostgreSQL. \\nOptimistic locking, in a nutshell, means that the calling function (client) does not acquire a lock,\\nbut rather monitors for changes in the data it is writing to during the time it would have held a lock. \\nIf there’s a conflict during that time, the calling function simply tries the whole process again.\\n\\nYou can effect optimistic locking by using the WATCH command (.watch() in redis-py), which provides a check-and-set behavior.\\n'"
      ]
     },
     "execution_count": 39,
     "metadata": {},
     "output_type": "execute_result"
    }
   ],
   "source": [
    "'''\n",
    "Step 3 is the trickiest. Let’s say that there is one lone hat remaining in our inventory. \n",
    "In between the time that User A checks the quantity of hats remaining and actually processes their transaction, \n",
    "User B also checks the inventory and finds likewise that there is one hat listed in stock. \n",
    "Both users will be allowed to purchase the hat, but we have 1 hat to sell, not 2, \n",
    "so we’re on the hook and one user is out of their money. Not good.\n",
    "\n",
    "Redis has a clever answer for the dilemma in Step 3: \n",
    "it’s called optimistic locking, and is different than how typical locking works in an RDBMS such as PostgreSQL. \n",
    "Optimistic locking, in a nutshell, means that the calling function (client) does not acquire a lock,\n",
    "but rather monitors for changes in the data it is writing to during the time it would have held a lock. \n",
    "If there’s a conflict during that time, the calling function simply tries the whole process again.\n",
    "\n",
    "You can effect optimistic locking by using the WATCH command (.watch() in redis-py), which provides a check-and-set behavior.\n",
    "'''"
   ]
  },
  {
   "cell_type": "code",
   "execution_count": 40,
   "id": "4aaea08a",
   "metadata": {},
   "outputs": [],
   "source": [
    "import logging\n",
    "import redis\n",
    "\n",
    "logging.basicConfig()\n",
    "\n",
    "class OutOfStockError(Exception):\n",
    "    \"\"\"Raised when PyHats.com is all out of today's hottest hat\"\"\"\n",
    "\n",
    "def buyitem(r: redis.Redis, itemid: int) -> None:\n",
    "    with r.pipeline() as pipe:\n",
    "        error_count = 0\n",
    "        while True:\n",
    "            try:\n",
    "                # Get available inventory, watching for changes\n",
    "                # related to this itemid before the transaction\n",
    "                pipe.watch(itemid)\n",
    "                nleft: bytes = r.hget(itemid, \"quantity\")\n",
    "                if nleft > b\"0\":\n",
    "                    pipe.multi()\n",
    "                    pipe.hincrby(itemid, \"quantity\", -1)\n",
    "                    pipe.hincrby(itemid, \"npurchased\", 1)\n",
    "                    pipe.execute()\n",
    "                    break\n",
    "                else:\n",
    "                    # Stop watching the itemid and raise to break out\n",
    "                    pipe.unwatch()\n",
    "                    raise OutOfStockError(\n",
    "                        f\"Sorry, {itemid} is out of stock!\"\n",
    "                    )\n",
    "            except redis.WatchError:\n",
    "                # Log total num. of errors by this user to buy this item,\n",
    "                # then try the same process again of WATCH/HGET/MULTI/EXEC\n",
    "                error_count += 1\n",
    "                logging.warning(\n",
    "                    \"WatchError #%d: %s; retrying\",\n",
    "                    error_count, itemid\n",
    "                )\n",
    "    return None\n"
   ]
  },
  {
   "cell_type": "code",
   "execution_count": 41,
   "id": "956f529f",
   "metadata": {},
   "outputs": [],
   "source": [
    "buyitem(r2, \"hat:56854717\")\n",
    "buyitem(r2, \"hat:56854717\")\n",
    "buyitem(r2, \"hat:56854717\")"
   ]
  },
  {
   "cell_type": "code",
   "execution_count": 42,
   "id": "2b8515ff",
   "metadata": {},
   "outputs": [
    {
     "data": {
      "text/plain": [
       "[b'196', b'4']"
      ]
     },
     "execution_count": 42,
     "metadata": {},
     "output_type": "execute_result"
    }
   ],
   "source": [
    "r2.hmget(\"hat:56854717\", \"quantity\", \"npurchased\")  # Hash multi-get"
   ]
  },
  {
   "cell_type": "code",
   "execution_count": 43,
   "id": "4c944235",
   "metadata": {},
   "outputs": [
    {
     "data": {
      "text/plain": [
       "'\\nNow, we can fast-forward through more purchases, mimicking a stream of purchases until the stock depletes to zero. \\nAgain, picture these coming from a whole bunch of different clients rather than just one Redis instance:\\n'"
      ]
     },
     "execution_count": 43,
     "metadata": {},
     "output_type": "execute_result"
    }
   ],
   "source": [
    "'''\n",
    "Now, we can fast-forward through more purchases, mimicking a stream of purchases until the stock depletes to zero. \n",
    "Again, picture these coming from a whole bunch of different clients rather than just one Redis instance:\n",
    "'''"
   ]
  },
  {
   "cell_type": "code",
   "execution_count": 44,
   "id": "2b0a2e3a",
   "metadata": {},
   "outputs": [
    {
     "data": {
      "text/plain": [
       "[b'0', b'200']"
      ]
     },
     "execution_count": 44,
     "metadata": {},
     "output_type": "execute_result"
    }
   ],
   "source": [
    "# Buy remaining 196 hats for item 56854717 and deplete stock to 0\n",
    "for _ in range(196):\n",
    "    buyitem(r2, \"hat:56854717\")\n",
    "r2.hmget(\"hat:56854717\", \"quantity\", \"npurchased\")"
   ]
  },
  {
   "cell_type": "code",
   "execution_count": 45,
   "id": "6b982f5b",
   "metadata": {},
   "outputs": [
    {
     "ename": "OutOfStockError",
     "evalue": "Sorry, hat:56854717 is out of stock!",
     "output_type": "error",
     "traceback": [
      "\u001b[1;31m-----------------------------------------------------------------------\u001b[0m",
      "\u001b[1;31mOutOfStockError\u001b[0m                       Traceback (most recent call last)",
      "Cell \u001b[1;32mIn[45], line 1\u001b[0m\n\u001b[1;32m----> 1\u001b[0m \u001b[43mbuyitem\u001b[49m\u001b[43m(\u001b[49m\u001b[43mr2\u001b[49m\u001b[43m,\u001b[49m\u001b[43m \u001b[49m\u001b[38;5;124;43m\"\u001b[39;49m\u001b[38;5;124;43mhat:56854717\u001b[39;49m\u001b[38;5;124;43m\"\u001b[39;49m\u001b[43m)\u001b[49m\n",
      "Cell \u001b[1;32mIn[40], line 27\u001b[0m, in \u001b[0;36mbuyitem\u001b[1;34m(r, itemid)\u001b[0m\n\u001b[0;32m     24\u001b[0m     \u001b[38;5;28;01melse\u001b[39;00m:\n\u001b[0;32m     25\u001b[0m         \u001b[38;5;66;03m# Stop watching the itemid and raise to break out\u001b[39;00m\n\u001b[0;32m     26\u001b[0m         pipe\u001b[38;5;241m.\u001b[39munwatch()\n\u001b[1;32m---> 27\u001b[0m         \u001b[38;5;28;01mraise\u001b[39;00m OutOfStockError(\n\u001b[0;32m     28\u001b[0m             \u001b[38;5;124mf\u001b[39m\u001b[38;5;124m\"\u001b[39m\u001b[38;5;124mSorry, \u001b[39m\u001b[38;5;132;01m{\u001b[39;00mitemid\u001b[38;5;132;01m}\u001b[39;00m\u001b[38;5;124m is out of stock!\u001b[39m\u001b[38;5;124m\"\u001b[39m\n\u001b[0;32m     29\u001b[0m         )\n\u001b[0;32m     30\u001b[0m \u001b[38;5;28;01mexcept\u001b[39;00m redis\u001b[38;5;241m.\u001b[39mWatchError:\n\u001b[0;32m     31\u001b[0m     \u001b[38;5;66;03m# Log total num. of errors by this user to buy this item,\u001b[39;00m\n\u001b[0;32m     32\u001b[0m     \u001b[38;5;66;03m# then try the same process again of WATCH/HGET/MULTI/EXEC\u001b[39;00m\n\u001b[0;32m     33\u001b[0m     error_count \u001b[38;5;241m+\u001b[39m\u001b[38;5;241m=\u001b[39m \u001b[38;5;241m1\u001b[39m\n",
      "\u001b[1;31mOutOfStockError\u001b[0m: Sorry, hat:56854717 is out of stock!"
     ]
    }
   ],
   "source": [
    "buyitem(r2, \"hat:56854717\")"
   ]
  },
  {
   "cell_type": "code",
   "execution_count": 46,
   "id": "c3b3c3d2",
   "metadata": {},
   "outputs": [],
   "source": [
    "# Using Key Expiry"
   ]
  },
  {
   "cell_type": "code",
   "execution_count": 47,
   "id": "e1649b85",
   "metadata": {},
   "outputs": [
    {
     "data": {
      "text/plain": [
       "True"
      ]
     },
     "execution_count": 47,
     "metadata": {},
     "output_type": "execute_result"
    }
   ],
   "source": [
    "from datetime import timedelta\n",
    "# setex: \"SET\" with expiration\n",
    "r.setex(\n",
    "    \"runner\",\n",
    "    timedelta(minutes=1),\n",
    "    value=\"now you see me, now you don't\"\n",
    ")"
   ]
  },
  {
   "cell_type": "code",
   "execution_count": 48,
   "id": "c34658a5",
   "metadata": {},
   "outputs": [],
   "source": [
    "# There are also methods (and corresponding Redis commands, of course) to get the remaining lifetime \n",
    "# (time-to-live) of a key that you’ve set to expire:"
   ]
  },
  {
   "cell_type": "code",
   "execution_count": 49,
   "id": "b87dde87",
   "metadata": {},
   "outputs": [
    {
     "data": {
      "text/plain": [
       "60"
      ]
     },
     "execution_count": 49,
     "metadata": {},
     "output_type": "execute_result"
    }
   ],
   "source": [
    "r.ttl(\"runner\")  # \"Time To Live\", in seconds"
   ]
  },
  {
   "cell_type": "code",
   "execution_count": 50,
   "id": "30b8276d",
   "metadata": {},
   "outputs": [
    {
     "data": {
      "text/plain": [
       "59910"
      ]
     },
     "execution_count": 50,
     "metadata": {},
     "output_type": "execute_result"
    }
   ],
   "source": [
    "r.pttl(\"runner\")  # Like ttl, but milliseconds"
   ]
  },
  {
   "cell_type": "code",
   "execution_count": 51,
   "id": "de7c89a7",
   "metadata": {},
   "outputs": [
    {
     "data": {
      "text/plain": [
       "b\"now you see me, now you don't\""
      ]
     },
     "execution_count": 51,
     "metadata": {},
     "output_type": "execute_result"
    }
   ],
   "source": [
    "r.get(\"runner\")  # Not expired yet"
   ]
  },
  {
   "cell_type": "code",
   "execution_count": 52,
   "id": "60b44b83",
   "metadata": {},
   "outputs": [
    {
     "data": {
      "text/plain": [
       "True"
      ]
     },
     "execution_count": 52,
     "metadata": {},
     "output_type": "execute_result"
    }
   ],
   "source": [
    "r.expire(\"runner\", timedelta(seconds=3))  # Set new expire window"
   ]
  },
  {
   "cell_type": "code",
   "execution_count": 53,
   "id": "f257ee67",
   "metadata": {},
   "outputs": [
    {
     "data": {
      "text/plain": [
       "1"
      ]
     },
     "execution_count": 53,
     "metadata": {},
     "output_type": "execute_result"
    }
   ],
   "source": [
    "r.get(\"runner\")\n",
    "r.exists(\"runner\")  # Key & value are both gone (expired)"
   ]
  },
  {
   "cell_type": "code",
   "execution_count": 54,
   "id": "7794e3cf",
   "metadata": {},
   "outputs": [],
   "source": [
    "# how to set expiry time : https://realpython.com/python-redis/#using-redis-py-redis-in-python"
   ]
  },
  {
   "cell_type": "code",
   "execution_count": 55,
   "id": "27d77dec",
   "metadata": {},
   "outputs": [
    {
     "data": {
      "text/plain": [
       "'\\nPyHats.com, Part 2\\nA few days after its debut, PyHats.com has attracted so much hype that some enterprising users are creating bots to \\nbuy hundreds of items within seconds, which you’ve decided isn’t good for the long-term health of your hat business.\\n\\nNow that you’ve seen how to expire keys, let’s put it to use on the backend of PyHats.com.\\n\\nWe’re going to create a new Redis client that acts as a consumer (or watcher) and processes a stream of incoming IP addresses, \\nwhich in turn may come from multiple HTTPS connections to the website’s server.\\n\\nThe watcher’s goal is to monitor a stream of IP addresses from multiple sources, keeping an eye out for a flood of requests \\nfrom a single address within a suspiciously short amount of time.\\n\\nSome middleware on the website server pushes all incoming IP addresses into a Redis list with .lpush(). \\nHere’s a crude way of mimicking some incoming IPs, using a fresh Redis database:\\n'"
      ]
     },
     "execution_count": 55,
     "metadata": {},
     "output_type": "execute_result"
    }
   ],
   "source": [
    "'''\n",
    "PyHats.com, Part 2\n",
    "A few days after its debut, PyHats.com has attracted so much hype that some enterprising users are creating bots to \n",
    "buy hundreds of items within seconds, which you’ve decided isn’t good for the long-term health of your hat business.\n",
    "\n",
    "Now that you’ve seen how to expire keys, let’s put it to use on the backend of PyHats.com.\n",
    "\n",
    "We’re going to create a new Redis client that acts as a consumer (or watcher) and processes a stream of incoming IP addresses, \n",
    "which in turn may come from multiple HTTPS connections to the website’s server.\n",
    "\n",
    "The watcher’s goal is to monitor a stream of IP addresses from multiple sources, keeping an eye out for a flood of requests \n",
    "from a single address within a suspiciously short amount of time.\n",
    "\n",
    "Some middleware on the website server pushes all incoming IP addresses into a Redis list with .lpush(). \n",
    "Here’s a crude way of mimicking some incoming IPs, using a fresh Redis database:\n",
    "'''"
   ]
  },
  {
   "cell_type": "code",
   "execution_count": 56,
   "id": "8394c8cb",
   "metadata": {},
   "outputs": [
    {
     "data": {
      "text/plain": [
       "4"
      ]
     },
     "execution_count": 56,
     "metadata": {},
     "output_type": "execute_result"
    }
   ],
   "source": [
    "r = redis.Redis(db=5)\n",
    "r.lpush(\"ips\", \"51.218.112.236\")\n",
    "r.lpush(\"ips\", \"90.213.45.98\")\n",
    "r.lpush(\"ips\", \"115.215.230.176\")\n",
    "r.lpush(\"ips\", \"51.218.112.236\")"
   ]
  },
  {
   "cell_type": "code",
   "execution_count": 57,
   "id": "354176fd",
   "metadata": {
    "scrolled": true
   },
   "outputs": [
    {
     "name": "stdout",
     "output_type": "stream",
     "text": [
      "addr 1 :  b'51.218.112.236'\n",
      "addr 2 :  51.218.112.236\n",
      "addrts :  51.218.112.236:0\n",
      "n :  1\n",
      "2023-02-03 16:00:48.063077:  saw 51.218.112.236\n",
      "addr 1 :  b'115.215.230.176'\n",
      "addr 2 :  115.215.230.176\n",
      "addrts :  115.215.230.176:0\n",
      "n :  1\n",
      "2023-02-03 16:00:48.071085:  saw 115.215.230.176\n",
      "addr 1 :  b'90.213.45.98'\n",
      "addr 2 :  90.213.45.98\n",
      "addrts :  90.213.45.98:0\n",
      "n :  1\n",
      "2023-02-03 16:00:48.077090:  saw 90.213.45.98\n"
     ]
    }
   ],
   "source": [
    "# New shell window or tab\n",
    "\n",
    "import datetime\n",
    "import ipaddress\n",
    "\n",
    "import redis\n",
    "\n",
    "# Where we put all the bad egg IP addresses\n",
    "blacklist = set()\n",
    "MAXVISITS = 15\n",
    "\n",
    "ipwatcher = redis.Redis(db=5)\n",
    "\n",
    "ip_cnt = 3\n",
    "\n",
    "while True:\n",
    "    _, addr = ipwatcher.blpop(\"ips\")\n",
    "    print('addr 1 : ',addr)\n",
    "    addr = ipaddress.ip_address(addr.decode(\"utf-8\"))\n",
    "    print('addr 2 : ',addr)\n",
    "    now = datetime.datetime.utcnow()\n",
    "    addrts = f\"{addr}:{now.minute}\"\n",
    "    print('addrts : ',addrts)        \n",
    "    n = ipwatcher.incrby(addrts, 1)\n",
    "    print('n : ',n)\n",
    "    if n >= MAXVISITS:\n",
    "        print(f\"Hat bot detected!:  {addr}\")\n",
    "        blacklist.add(addr)\n",
    "    else:\n",
    "        print(f\"{now}:  saw {addr}\")\n",
    "    _ = ipwatcher.expire(addrts, 60)\n",
    "    ip_cnt = ip_cnt -1\n",
    "    \n",
    "    if ip_cnt == 0:\n",
    "       break;"
   ]
  },
  {
   "cell_type": "code",
   "execution_count": 58,
   "id": "ffdde4f1",
   "metadata": {},
   "outputs": [],
   "source": [
    "# Serialization Workarounds"
   ]
  },
  {
   "cell_type": "code",
   "execution_count": 59,
   "id": "887cae4e",
   "metadata": {},
   "outputs": [
    {
     "data": {
      "text/plain": [
       "1"
      ]
     },
     "execution_count": 59,
     "metadata": {},
     "output_type": "execute_result"
    }
   ],
   "source": [
    "r.hset(\"mykey\", \"field1\", \"value1\")"
   ]
  },
  {
   "cell_type": "code",
   "execution_count": 60,
   "id": "11cf3bde",
   "metadata": {},
   "outputs": [],
   "source": [
    "restaurant_484272 = {\n",
    "    \"name\": \"Ravagh\",\n",
    "    \"type\": \"Persian\",\n",
    "    \"address\": {\n",
    "        \"street\": {\n",
    "            \"line1\": \"11 E 30th St\",\n",
    "            \"line2\": \"APT 1\",\n",
    "        },\n",
    "        \"city\": \"New York\",\n",
    "        \"state\": \"NY\",\n",
    "        \"zip\": 10016,\n",
    "    }\n",
    "}"
   ]
  },
  {
   "cell_type": "code",
   "execution_count": 61,
   "id": "2a4a6cf8",
   "metadata": {},
   "outputs": [],
   "source": [
    "# 1. Serialize the values into a string with something like json.dumps()\n",
    "# 2. Use a delimiter in the key strings to mimic nesting in the values"
   ]
  },
  {
   "cell_type": "code",
   "execution_count": 62,
   "id": "e30b4ad8",
   "metadata": {},
   "outputs": [],
   "source": [
    "# Option 1: Serialize the Values Into a String"
   ]
  },
  {
   "cell_type": "code",
   "execution_count": 63,
   "id": "87889fa7",
   "metadata": {},
   "outputs": [
    {
     "data": {
      "text/plain": [
       "True"
      ]
     },
     "execution_count": 63,
     "metadata": {},
     "output_type": "execute_result"
    }
   ],
   "source": [
    "import json\n",
    "r.set(484272, json.dumps(restaurant_484272))"
   ]
  },
  {
   "cell_type": "code",
   "execution_count": 64,
   "id": "664b523c",
   "metadata": {},
   "outputs": [
    {
     "name": "stdout",
     "output_type": "stream",
     "text": [
      "{'address': {'city': 'New York',\n",
      "             'state': 'NY',\n",
      "             'street': {'line1': '11 E 30th St', 'line2': 'APT 1'},\n",
      "             'zip': 10016},\n",
      " 'name': 'Ravagh',\n",
      " 'type': 'Persian'}\n"
     ]
    }
   ],
   "source": [
    "from pprint import pprint\n",
    "pprint(json.loads(r.get(484272)))"
   ]
  },
  {
   "cell_type": "code",
   "execution_count": 65,
   "id": "d45727a1",
   "metadata": {},
   "outputs": [
    {
     "data": {
      "text/plain": [
       "'address:\\n  city: New York\\n  state: NY\\n  street:\\n    line1: 11 E 30th St\\n    line2: APT 1\\n  zip: 10016\\nname: Ravagh\\ntype: Persian\\n'"
      ]
     },
     "execution_count": 65,
     "metadata": {},
     "output_type": "execute_result"
    }
   ],
   "source": [
    "import yaml  \n",
    "yaml.dump(restaurant_484272)"
   ]
  },
  {
   "cell_type": "code",
   "execution_count": 66,
   "id": "cdcbeaf0",
   "metadata": {},
   "outputs": [],
   "source": [
    "# Option 2: Use a Delimiter in Key Strings"
   ]
  },
  {
   "cell_type": "code",
   "execution_count": 67,
   "id": "f0adbac2",
   "metadata": {},
   "outputs": [
    {
     "data": {
      "text/plain": [
       "'\\nWe want to get it into this form:\\n\\n{\\n    \"484272:name\":                     \"Ravagh\",\\n    \"484272:type\":                     \"Persian\",\\n    \"484272:address:street:line1\":     \"11 E 30th St\",\\n    \"484272:address:street:line2\":     \"APT 1\",\\n    \"484272:address:city\":             \"New York\",\\n    \"484272:address:state\":            \"NY\",\\n    \"484272:address:zip\":              \"10016\",\\n}\\n'"
      ]
     },
     "execution_count": 67,
     "metadata": {},
     "output_type": "execute_result"
    }
   ],
   "source": [
    "'''\n",
    "We want to get it into this form:\n",
    "\n",
    "{\n",
    "    \"484272:name\":                     \"Ravagh\",\n",
    "    \"484272:type\":                     \"Persian\",\n",
    "    \"484272:address:street:line1\":     \"11 E 30th St\",\n",
    "    \"484272:address:street:line2\":     \"APT 1\",\n",
    "    \"484272:address:city\":             \"New York\",\n",
    "    \"484272:address:state\":            \"NY\",\n",
    "    \"484272:address:zip\":              \"10016\",\n",
    "}\n",
    "'''"
   ]
  },
  {
   "cell_type": "code",
   "execution_count": 68,
   "id": "cdbca9a0",
   "metadata": {},
   "outputs": [],
   "source": [
    "from collections.abc import MutableMapping\n",
    "\n",
    "def setflat_skeys(\n",
    "    r: redis.Redis,\n",
    "    obj: dict,\n",
    "    prefix: str,\n",
    "    delim: str = \":\",\n",
    "    *,\n",
    "    _autopfix=\"\"\n",
    ") -> None:\n",
    "    \"\"\"Flatten `obj` and set resulting field-value pairs into `r`.\n",
    "\n",
    "    Calls `.set()` to write to Redis instance inplace and returns None.\n",
    "\n",
    "    `prefix` is an optional str that prefixes all keys.\n",
    "    `delim` is the delimiter that separates the joined, flattened keys.\n",
    "    `_autopfix` is used in recursive calls to created de-nested keys.\n",
    "\n",
    "    The deepest-nested keys must be str, bytes, float, or int.\n",
    "    Otherwise a TypeError is raised.\n",
    "    \"\"\"\n",
    "    allowed_vtypes = (str, bytes, float, int)\n",
    "    for key, value in obj.items():\n",
    "        key = _autopfix + key\n",
    "        if isinstance(value, allowed_vtypes):\n",
    "            r.set(f\"{prefix}{delim}{key}\", value)\n",
    "        elif isinstance(value, MutableMapping):\n",
    "            setflat_skeys(\n",
    "                r, value, prefix, delim, _autopfix=f\"{key}{delim}\"\n",
    "            )\n",
    "        else:\n",
    "            raise TypeError(f\"Unsupported value type: {type(value)}\")"
   ]
  },
  {
   "cell_type": "code",
   "execution_count": 69,
   "id": "fcc1e0f8",
   "metadata": {},
   "outputs": [
    {
     "name": "stdout",
     "output_type": "stream",
     "text": [
      "b'484272:address:city'             b'New York'    \n",
      "b'484272:address:state'            b'NY'          \n",
      "b'484272:address:street:line1'     b'11 E 30th St'\n",
      "b'484272:address:street:line2'     b'APT 1'       \n",
      "b'484272:address:zip'              b'10016'       \n",
      "b'484272:name'                     b'Ravagh'      \n",
      "b'484272:type'                     b'Persian'     \n"
     ]
    }
   ],
   "source": [
    "r.flushdb()  # Flush database: clear old entries\n",
    "setflat_skeys(r, restaurant_484272, 484272)\n",
    "for key in sorted(r.keys(\"484272*\")):  # Filter to this pattern\n",
    "    print(f\"{repr(key):35}{repr(r.get(key)):15}\")"
   ]
  },
  {
   "cell_type": "code",
   "execution_count": 70,
   "id": "2943b301",
   "metadata": {},
   "outputs": [
    {
     "data": {
      "text/plain": [
       "b'11 E 30th St'"
      ]
     },
     "execution_count": 70,
     "metadata": {},
     "output_type": "execute_result"
    }
   ],
   "source": [
    "r.get(\"484272:address:street:line1\")"
   ]
  },
  {
   "cell_type": "code",
   "execution_count": 71,
   "id": "3d322b7a",
   "metadata": {},
   "outputs": [],
   "source": [
    "# Encryption"
   ]
  },
  {
   "cell_type": "code",
   "execution_count": 72,
   "id": "9c56256a",
   "metadata": {},
   "outputs": [
    {
     "data": {
      "text/plain": [
       "True"
      ]
     },
     "execution_count": 72,
     "metadata": {},
     "output_type": "execute_result"
    }
   ],
   "source": [
    "import json\n",
    "from cryptography.fernet import Fernet\n",
    "cipher = Fernet(Fernet.generate_key())\n",
    "info = {\n",
    "    \"cardnum\": 2211849528391929,\n",
    "    \"exp\": [2020, 9],\n",
    "    \"cv2\": 842,\n",
    "}\n",
    "r.set(\n",
    "    \"user:1000\",\n",
    "    cipher.encrypt(json.dumps(info).encode(\"utf-8\"))\n",
    ")\n"
   ]
  },
  {
   "cell_type": "code",
   "execution_count": 73,
   "id": "6a146ffe",
   "metadata": {},
   "outputs": [
    {
     "data": {
      "text/plain": [
       "b'gAAAAABj3S_8UAjUhmyjUDh6ArGIojZSeaVIXEPm0wvDggYEbDbiTTk-N0PM8zCOEL8yksNbs-L0_ZedgYtL7vbydr8XiNpd9egArwfxBFFSvWaoI0bzfaAzy7q2UmwmcGVzNQ88g654OTEWYURO6Bb7AAf3awTJPQ=='"
      ]
     },
     "execution_count": 73,
     "metadata": {},
     "output_type": "execute_result"
    }
   ],
   "source": [
    "r.get(\"user:1000\")"
   ]
  },
  {
   "cell_type": "code",
   "execution_count": 74,
   "id": "a37a9428",
   "metadata": {},
   "outputs": [
    {
     "data": {
      "text/plain": [
       "b'{\"cardnum\": 2211849528391929, \"exp\": [2020, 9], \"cv2\": 842}'"
      ]
     },
     "execution_count": 74,
     "metadata": {},
     "output_type": "execute_result"
    }
   ],
   "source": [
    "cipher.decrypt(r.get(\"user:1000\"))"
   ]
  },
  {
   "cell_type": "code",
   "execution_count": 75,
   "id": "32921594",
   "metadata": {},
   "outputs": [
    {
     "data": {
      "text/plain": [
       "{'cardnum': 2211849528391929, 'exp': [2020, 9], 'cv2': 842}"
      ]
     },
     "execution_count": 75,
     "metadata": {},
     "output_type": "execute_result"
    }
   ],
   "source": [
    "json.loads(cipher.decrypt(r.get(\"user:1000\")))"
   ]
  },
  {
   "cell_type": "code",
   "execution_count": 76,
   "id": "b98dd503",
   "metadata": {},
   "outputs": [],
   "source": [
    "# Compression pip install cryptography"
   ]
  },
  {
   "cell_type": "code",
   "execution_count": 77,
   "id": "f2505658",
   "metadata": {},
   "outputs": [
    {
     "data": {
      "text/plain": [
       "260000"
      ]
     },
     "execution_count": 77,
     "metadata": {},
     "output_type": "execute_result"
    }
   ],
   "source": [
    "import bz2\n",
    "blob = \"i have a lot to talk about\" * 10000\n",
    "len(blob.encode(\"utf-8\"))\n"
   ]
  },
  {
   "cell_type": "code",
   "execution_count": 78,
   "id": "44e227d9",
   "metadata": {},
   "outputs": [
    {
     "data": {
      "text/plain": [
       "True"
      ]
     },
     "execution_count": 78,
     "metadata": {},
     "output_type": "execute_result"
    }
   ],
   "source": [
    "# Set the compressed string as value\n",
    "r.set(\"msg:500\", bz2.compress(blob.encode(\"utf-8\")))"
   ]
  },
  {
   "cell_type": "code",
   "execution_count": 79,
   "id": "bad1c0b5",
   "metadata": {},
   "outputs": [
    {
     "data": {
      "text/plain": [
       "b'BZh91AY&SY\\xdaM\\x1eu\\x01\\x11o\\x91\\x80@\\x002l\\x87\\x000\\x01\\x18\\x01\\x03@\\xd0 h\\x1a\\x01J\\xa3j\\x9e\\x89\\x8d\\x04*6\\x10\\xa8\\xd8B\\xa3\\x02\\x15\\x1d\\x84*?\\x84*6\\x08Tp\\x10\\xa8\\xec!Q\\x81\\n\\x8fB\\x15\\x18\\x10\\xa8\\xc0\\x85G\\x81\\n\\x8c\\x08Th!Q\\xa0\\x85F\\x82\\x15\\x1e\\x04*:\\x08T`B\\xa3\\xd0\\x85G\\x01\\n\\x8eB\\x15\\x1b\\x08T|.\\xe4\\x8ap\\xa1!\\xb4\\x9a<\\xea'"
      ]
     },
     "execution_count": 79,
     "metadata": {},
     "output_type": "execute_result"
    }
   ],
   "source": [
    "r.get(\"msg:500\")"
   ]
  },
  {
   "cell_type": "code",
   "execution_count": 80,
   "id": "a161d9f6",
   "metadata": {},
   "outputs": [
    {
     "data": {
      "text/plain": [
       "122"
      ]
     },
     "execution_count": 80,
     "metadata": {},
     "output_type": "execute_result"
    }
   ],
   "source": [
    "len(r.get(\"msg:500\"))"
   ]
  },
  {
   "cell_type": "code",
   "execution_count": 84,
   "id": "827e2118",
   "metadata": {},
   "outputs": [
    {
     "data": {
      "text/plain": [
       "2131.1475409836066"
      ]
     },
     "execution_count": 84,
     "metadata": {},
     "output_type": "execute_result"
    }
   ],
   "source": [
    " 260000 / 122  # Magnitude of savings"
   ]
  },
  {
   "cell_type": "code",
   "execution_count": 82,
   "id": "a5937234",
   "metadata": {},
   "outputs": [],
   "source": [
    "# Get and decompress the value, then confirm it's equal to the original\n",
    "rblob = bz2.decompress(r.get(\"msg:500\")).decode(\"utf-8\")"
   ]
  },
  {
   "cell_type": "code",
   "execution_count": 85,
   "id": "0abe6687",
   "metadata": {},
   "outputs": [
    {
     "data": {
      "text/plain": [
       "True"
      ]
     },
     "execution_count": 85,
     "metadata": {},
     "output_type": "execute_result"
    }
   ],
   "source": [
    "rblob == blob"
   ]
  },
  {
   "cell_type": "code",
   "execution_count": 86,
   "id": "dc3b854e",
   "metadata": {},
   "outputs": [],
   "source": [
    "# Using Hiredis -  pip install hiredis"
   ]
  },
  {
   "cell_type": "code",
   "execution_count": 89,
   "id": "2e9c011b",
   "metadata": {},
   "outputs": [
    {
     "data": {
      "text/plain": [
       "'\\nIt’s common for a client library such as redis-py to follow a protocol in how it is built. \\nIn this case, redis-py implements the REdis Serialization Protocol, or RESP.\\n\\nPart of fulfilling this protocol consists of converting some Python object in a raw bytestring, \\nsending it to the Redis server, and parsing the response back into an intelligible Python object.\\n\\nFor example, the string response “OK” would come back as \"+OK\\r\\n\",\\nwhile the integer response 1000 would come back as \":1000\\r\\n\". \\nThis can get more complex with other data types such as RESP arrays.\\n\\nA parser is a tool in the request-response cycle that interprets \\nthis raw response and crafts it into something recognizable to the client. \\nredis-py ships with its own parser class, PythonParser, which does the parsing in pure Python.\\n(See .read_response() if you’re curious.)\\n\\nHowever, there’s also a C library, Hiredis, that contains a fast parser \\nthat can offer significant speedups for some Redis commands such as LRANGE. \\nYou can think of Hiredis as an optional accelerator that it doesn’t hurt to have around in niche cases.\\n\\nAll that you have to do to enable redis-py to use the Hiredis parser is to \\ninstall its Python bindings in the same environment as redis-py:\\n\\n\\n\\nWhat you’re actually installing here is hiredis-py, \\nwhich is a Python wrapper for a portion of the hiredis C library.\\n\\nThe nice thing is that you don’t really need to call hiredis yourself. \\nJust pip install it, and this will let redis-py see that it’s available and \\nuse its HiredisParser instead of PythonParser.\\n\\nInternally, redis-py will attempt to import hiredis, \\nand use a HiredisParser class to match it, but will fall back to its PythonParser instead, \\nwhich may be slower in some cases:\\n'"
      ]
     },
     "execution_count": 89,
     "metadata": {},
     "output_type": "execute_result"
    }
   ],
   "source": [
    "'''\n",
    "It’s common for a client library such as redis-py to follow a protocol in how it is built. \n",
    "In this case, redis-py implements the REdis Serialization Protocol, or RESP.\n",
    "\n",
    "Part of fulfilling this protocol consists of converting some Python object in a raw bytestring, \n",
    "sending it to the Redis server, and parsing the response back into an intelligible Python object.\n",
    "\n",
    "For example, the string response “OK” would come back as \"+OK\\r\\n\",\n",
    "while the integer response 1000 would come back as \":1000\\r\\n\". \n",
    "This can get more complex with other data types such as RESP arrays.\n",
    "\n",
    "A parser is a tool in the request-response cycle that interprets \n",
    "this raw response and crafts it into something recognizable to the client. \n",
    "redis-py ships with its own parser class, PythonParser, which does the parsing in pure Python.\n",
    "(See .read_response() if you’re curious.)\n",
    "\n",
    "However, there’s also a C library, Hiredis, that contains a fast parser \n",
    "that can offer significant speedups for some Redis commands such as LRANGE. \n",
    "You can think of Hiredis as an optional accelerator that it doesn’t hurt to have around in niche cases.\n",
    "\n",
    "All that you have to do to enable redis-py to use the Hiredis parser is to \n",
    "install its Python bindings in the same environment as redis-py:\n",
    "\n",
    "\n",
    "\n",
    "What you’re actually installing here is hiredis-py, \n",
    "which is a Python wrapper for a portion of the hiredis C library.\n",
    "\n",
    "The nice thing is that you don’t really need to call hiredis yourself. \n",
    "Just pip install it, and this will let redis-py see that it’s available and \n",
    "use its HiredisParser instead of PythonParser.\n",
    "\n",
    "Internally, redis-py will attempt to import hiredis, \n",
    "and use a HiredisParser class to match it, but will fall back to its PythonParser instead, \n",
    "which may be slower in some cases:\n",
    "'''"
   ]
  },
  {
   "cell_type": "code",
   "execution_count": 87,
   "id": "09a15b08",
   "metadata": {},
   "outputs": [
    {
     "ename": "NameError",
     "evalue": "name 'HiredisParser' is not defined",
     "output_type": "error",
     "traceback": [
      "\u001b[1;31m-----------------------------------------------------------------------\u001b[0m",
      "\u001b[1;31mNameError\u001b[0m                             Traceback (most recent call last)",
      "Cell \u001b[1;32mIn[87], line 11\u001b[0m\n\u001b[0;32m      9\u001b[0m \u001b[38;5;66;03m# redis/connection.py\u001b[39;00m\n\u001b[0;32m     10\u001b[0m \u001b[38;5;28;01mif\u001b[39;00m HIREDIS_AVAILABLE:\n\u001b[1;32m---> 11\u001b[0m     DefaultParser \u001b[38;5;241m=\u001b[39m \u001b[43mHiredisParser\u001b[49m\n\u001b[0;32m     12\u001b[0m \u001b[38;5;28;01melse\u001b[39;00m:\n\u001b[0;32m     13\u001b[0m     DefaultParser \u001b[38;5;241m=\u001b[39m PythonParser\n",
      "\u001b[1;31mNameError\u001b[0m: name 'HiredisParser' is not defined"
     ]
    }
   ],
   "source": [
    "# redis/utils.py\n",
    "try:\n",
    "    import hiredis\n",
    "    HIREDIS_AVAILABLE = True\n",
    "except ImportError:\n",
    "    HIREDIS_AVAILABLE = False\n",
    "\n",
    "\n",
    "# redis/connection.py\n",
    "if HIREDIS_AVAILABLE:\n",
    "    DefaultParser = HiredisParser\n",
    "else:\n",
    "    DefaultParser = PythonParser"
   ]
  },
  {
   "cell_type": "code",
   "execution_count": null,
   "id": "cd06a27f",
   "metadata": {},
   "outputs": [],
   "source": []
  }
 ],
 "metadata": {
  "kernelspec": {
   "display_name": "Django Shell-Plus",
   "language": "python",
   "name": "django_extensions"
  },
  "language_info": {
   "codemirror_mode": {
    "name": "ipython",
    "version": 3
   },
   "file_extension": ".py",
   "mimetype": "text/x-python",
   "name": "python",
   "nbconvert_exporter": "python",
   "pygments_lexer": "ipython3",
   "version": "3.10.0"
  }
 },
 "nbformat": 4,
 "nbformat_minor": 5
}
