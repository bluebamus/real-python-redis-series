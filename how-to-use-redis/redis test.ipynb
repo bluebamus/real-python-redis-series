{
 "cells": [
  {
   "cell_type": "code",
   "execution_count": 8,
   "id": "2f1f099f",
   "metadata": {},
   "outputs": [],
   "source": [
    "import os"
   ]
  },
  {
   "cell_type": "code",
   "execution_count": 9,
   "id": "7ab932e7",
   "metadata": {},
   "outputs": [],
   "source": [
    "os.environ[\"DJANGO_ALLOW_ASYNC_UNSAFE\"] = \"true\""
   ]
  },
  {
   "cell_type": "code",
   "execution_count": 10,
   "id": "d2f725ef",
   "metadata": {},
   "outputs": [],
   "source": [
    "import redis"
   ]
  },
  {
   "cell_type": "code",
   "execution_count": 11,
   "id": "ff440d97",
   "metadata": {},
   "outputs": [],
   "source": [
    "r = redis.Redis(host='127.0.0.1',port=6379,db=0, password=None, socket_timeout=None) #__init__"
   ]
  },
  {
   "cell_type": "code",
   "execution_count": 12,
   "id": "94ef6b18",
   "metadata": {},
   "outputs": [
    {
     "data": {
      "text/plain": [
       "True"
      ]
     },
     "execution_count": 12,
     "metadata": {},
     "output_type": "execute_result"
    }
   ],
   "source": [
    "r.mset({\"Croatia\": \"Zagreb\", \"Bahamas\": \"Nassau\"})"
   ]
  },
  {
   "cell_type": "code",
   "execution_count": 13,
   "id": "b428b18b",
   "metadata": {},
   "outputs": [
    {
     "data": {
      "text/plain": [
       "b'Nassau'"
      ]
     },
     "execution_count": 13,
     "metadata": {},
     "output_type": "execute_result"
    }
   ],
   "source": [
    "r.get(\"Bahamas\")"
   ]
  },
  {
   "cell_type": "code",
   "execution_count": 25,
   "id": "e08cff58",
   "metadata": {},
   "outputs": [],
   "source": [
    "### datetime"
   ]
  },
  {
   "cell_type": "code",
   "execution_count": 14,
   "id": "49bd3f71",
   "metadata": {},
   "outputs": [],
   "source": [
    "import datetime"
   ]
  },
  {
   "cell_type": "code",
   "execution_count": 15,
   "id": "6db7c0d3",
   "metadata": {},
   "outputs": [],
   "source": [
    "today = datetime.date.today()"
   ]
  },
  {
   "cell_type": "code",
   "execution_count": 16,
   "id": "2a325f8e",
   "metadata": {},
   "outputs": [],
   "source": [
    "visitors = {\"dan\", \"jon\", \"alex\"}"
   ]
  },
  {
   "cell_type": "code",
   "execution_count": 19,
   "id": "04286c11",
   "metadata": {},
   "outputs": [],
   "source": [
    "# r.sadd(today, *visitors) ## redis.exceptions.DataError: Invalid input of type: 'date'. Convert to a byte, string or number first."
   ]
  },
  {
   "cell_type": "code",
   "execution_count": 20,
   "id": "15b09267",
   "metadata": {},
   "outputs": [],
   "source": [
    "stoday = today.isoformat() "
   ]
  },
  {
   "cell_type": "code",
   "execution_count": 21,
   "id": "eda354e0",
   "metadata": {},
   "outputs": [
    {
     "data": {
      "text/plain": [
       "'2023-02-01'"
      ]
     },
     "execution_count": 21,
     "metadata": {},
     "output_type": "execute_result"
    }
   ],
   "source": [
    "stoday"
   ]
  },
  {
   "cell_type": "code",
   "execution_count": 22,
   "id": "dc671c8d",
   "metadata": {},
   "outputs": [
    {
     "data": {
      "text/plain": [
       "3"
      ]
     },
     "execution_count": 22,
     "metadata": {},
     "output_type": "execute_result"
    }
   ],
   "source": [
    "r.sadd(stoday, *visitors)  # sadd: set-add"
   ]
  },
  {
   "cell_type": "code",
   "execution_count": 23,
   "id": "e1f6f385",
   "metadata": {},
   "outputs": [
    {
     "data": {
      "text/plain": [
       "{b'alex', b'dan', b'jon'}"
      ]
     },
     "execution_count": 23,
     "metadata": {},
     "output_type": "execute_result"
    }
   ],
   "source": [
    " r.smembers(stoday)"
   ]
  },
  {
   "cell_type": "code",
   "execution_count": 24,
   "id": "62fd7279",
   "metadata": {},
   "outputs": [
    {
     "data": {
      "text/plain": [
       "3"
      ]
     },
     "execution_count": 24,
     "metadata": {},
     "output_type": "execute_result"
    }
   ],
   "source": [
    "r.scard(today.isoformat())"
   ]
  },
  {
   "cell_type": "code",
   "execution_count": 26,
   "id": "df358148",
   "metadata": {},
   "outputs": [],
   "source": [
    "### Example: PyHats.com"
   ]
  },
  {
   "cell_type": "code",
   "execution_count": 27,
   "id": "b90a773a",
   "metadata": {},
   "outputs": [],
   "source": [
    "import random"
   ]
  },
  {
   "cell_type": "code",
   "execution_count": 28,
   "id": "bc63dfde",
   "metadata": {},
   "outputs": [],
   "source": [
    "random.seed(444)"
   ]
  },
  {
   "cell_type": "code",
   "execution_count": 29,
   "id": "dd0b32f1",
   "metadata": {},
   "outputs": [],
   "source": [
    "hats = {f\"hat:{random.getrandbits(32)}\": i for i in (\n",
    "    {\n",
    "        \"color\": \"black\",\n",
    "        \"price\": 49.99,\n",
    "        \"style\": \"fitted\",\n",
    "        \"quantity\": 1000,\n",
    "        \"npurchased\": 0,\n",
    "    },\n",
    "    {\n",
    "        \"color\": \"maroon\",\n",
    "        \"price\": 59.99,\n",
    "        \"style\": \"hipster\",\n",
    "        \"quantity\": 500,\n",
    "        \"npurchased\": 0,\n",
    "    },\n",
    "    {\n",
    "        \"color\": \"green\",\n",
    "        \"price\": 99.99,\n",
    "        \"style\": \"baseball\",\n",
    "        \"quantity\": 200,\n",
    "        \"npurchased\": 0,\n",
    "    })\n",
    "}"
   ]
  },
  {
   "cell_type": "code",
   "execution_count": 30,
   "id": "cf46071f",
   "metadata": {},
   "outputs": [
    {
     "data": {
      "text/plain": [
       "{'hat:1326692461': {'color': 'black',\n",
       "  'price': 49.99,\n",
       "  'style': 'fitted',\n",
       "  'quantity': 1000,\n",
       "  'npurchased': 0},\n",
       " 'hat:1236154736': {'color': 'maroon',\n",
       "  'price': 59.99,\n",
       "  'style': 'hipster',\n",
       "  'quantity': 500,\n",
       "  'npurchased': 0},\n",
       " 'hat:56854717': {'color': 'green',\n",
       "  'price': 99.99,\n",
       "  'style': 'baseball',\n",
       "  'quantity': 200,\n",
       "  'npurchased': 0}}"
      ]
     },
     "execution_count": 30,
     "metadata": {},
     "output_type": "execute_result"
    }
   ],
   "source": [
    "hats"
   ]
  },
  {
   "cell_type": "code",
   "execution_count": 136,
   "id": "940dd4f1",
   "metadata": {},
   "outputs": [],
   "source": [
    "import json"
   ]
  },
  {
   "cell_type": "code",
   "execution_count": 137,
   "id": "363f31e4",
   "metadata": {},
   "outputs": [],
   "source": [
    "r1 = redis.Redis(db=1)"
   ]
  },
  {
   "cell_type": "code",
   "execution_count": 138,
   "id": "a4de746c",
   "metadata": {},
   "outputs": [
    {
     "name": "stdout",
     "output_type": "stream",
     "text": [
      "h_id :  hat:1326692461\n",
      "hat :  {'color': 'black', 'price': 49.99, 'style': 'fitted', 'quantity': 1000, 'npurchased': 0}\n",
      "h_id :  hat:1236154736\n",
      "hat :  {'color': 'maroon', 'price': 59.99, 'style': 'hipster', 'quantity': 500, 'npurchased': 0}\n",
      "h_id :  hat:56854717\n",
      "hat :  {'color': 'green', 'price': 99.99, 'style': 'baseball', 'quantity': 200, 'npurchased': 0}\n"
     ]
    }
   ],
   "source": [
    "with r1.pipeline() as pipe:\n",
    "    for h_id, hat in hats.items():\n",
    "        print('h_id : ',h_id)\n",
    "        print('hat : ',hat)\n",
    "        json_test_dict = json.dumps(hat, ensure_ascii=False).encode('utf-8')\n",
    "        r1.set(h_id, json_test_dict)\n",
    "    pipe.execute()"
   ]
  },
  {
   "cell_type": "code",
   "execution_count": 139,
   "id": "d2cb0c93",
   "metadata": {
    "scrolled": true
   },
   "outputs": [],
   "source": [
    "json_test_dict = r1.get('hat:1326692461').decode('utf-8')\n",
    "test_dict2 = dict(json.loads(json_test_dict))"
   ]
  },
  {
   "cell_type": "code",
   "execution_count": 140,
   "id": "21bd759c",
   "metadata": {},
   "outputs": [
    {
     "data": {
      "text/plain": [
       "{'color': 'black', 'price': 49.99, 'style': 'fitted', 'quantity': 1000, 'npurchased': 0}"
      ]
     },
     "execution_count": 140,
     "metadata": {},
     "output_type": "execute_result"
    }
   ],
   "source": [
    "test_dict2"
   ]
  },
  {
   "cell_type": "code",
   "execution_count": 141,
   "id": "a74bbef8",
   "metadata": {},
   "outputs": [
    {
     "data": {
      "text/plain": [
       "[b'hat:1236154736', b'hat:1326692461', b'hat:56854717']"
      ]
     },
     "execution_count": 141,
     "metadata": {},
     "output_type": "execute_result"
    }
   ],
   "source": [
    "r1.keys()"
   ]
  },
  {
   "cell_type": "code",
   "execution_count": 153,
   "id": "d01416eb",
   "metadata": {},
   "outputs": [
    {
     "name": "stdout",
     "output_type": "stream",
     "text": [
      "h_id :  hat:1326692461\n",
      "hat :  {'color': 'black', 'price': 49.99, 'style': 'fitted', 'quantity': 1000, 'npurchased': 0}\n",
      "h_id :  hat:1236154736\n",
      "hat :  {'color': 'maroon', 'price': 59.99, 'style': 'hipster', 'quantity': 500, 'npurchased': 0}\n",
      "h_id :  hat:56854717\n",
      "hat :  {'color': 'green', 'price': 99.99, 'style': 'baseball', 'quantity': 200, 'npurchased': 0}\n"
     ]
    }
   ],
   "source": [
    "from redis import StrictRedis\n",
    "r2 = StrictRedis(db=2)\n",
    "with r2.pipeline() as pipe:\n",
    "    for h_id, hat in hats.items():\n",
    "        print('h_id : ',h_id)\n",
    "        print('hat : ',hat)\n",
    "        r2.hset(h_id, mapping=hat)\n",
    "    pipe.execute()"
   ]
  },
  {
   "cell_type": "code",
   "execution_count": 154,
   "id": "bae3005d",
   "metadata": {},
   "outputs": [
    {
     "data": {
      "text/plain": [
       "True"
      ]
     },
     "execution_count": 154,
     "metadata": {},
     "output_type": "execute_result"
    }
   ],
   "source": [
    "r2.bgsave()"
   ]
  },
  {
   "cell_type": "code",
   "execution_count": 156,
   "id": "18535e08",
   "metadata": {},
   "outputs": [
    {
     "data": {
      "text/plain": [
       "[b'hat:1236154736', b'hat:1326692461', b'hat:56854717']"
      ]
     },
     "execution_count": 156,
     "metadata": {},
     "output_type": "execute_result"
    }
   ],
   "source": [
    "r2.keys()"
   ]
  },
  {
   "cell_type": "code",
   "execution_count": 157,
   "id": "2ee193b4",
   "metadata": {},
   "outputs": [
    {
     "data": {
      "text/plain": [
       "199"
      ]
     },
     "execution_count": 157,
     "metadata": {},
     "output_type": "execute_result"
    }
   ],
   "source": [
    "r2.hincrby(\"hat:56854717\", \"quantity\", -1)"
   ]
  },
  {
   "cell_type": "code",
   "execution_count": 158,
   "id": "66ac334b",
   "metadata": {},
   "outputs": [
    {
     "data": {
      "text/plain": [
       "b'199'"
      ]
     },
     "execution_count": 158,
     "metadata": {},
     "output_type": "execute_result"
    }
   ],
   "source": [
    "r2.hget(\"hat:56854717\", \"quantity\")"
   ]
  },
  {
   "cell_type": "code",
   "execution_count": 159,
   "id": "c2b225cd",
   "metadata": {},
   "outputs": [
    {
     "data": {
      "text/plain": [
       "1"
      ]
     },
     "execution_count": 159,
     "metadata": {},
     "output_type": "execute_result"
    }
   ],
   "source": [
    "r2.hincrby(\"hat:56854717\", \"npurchased\", 1)"
   ]
  },
  {
   "cell_type": "code",
   "execution_count": null,
   "id": "f44db21b",
   "metadata": {},
   "outputs": [],
   "source": []
  }
 ],
 "metadata": {
  "kernelspec": {
   "display_name": "Django Shell-Plus",
   "language": "python",
   "name": "django_extensions"
  },
  "language_info": {
   "codemirror_mode": {
    "name": "ipython",
    "version": 3
   },
   "file_extension": ".py",
   "mimetype": "text/x-python",
   "name": "python",
   "nbconvert_exporter": "python",
   "pygments_lexer": "ipython3",
   "version": "3.11.1"
  }
 },
 "nbformat": 4,
 "nbformat_minor": 5
}
